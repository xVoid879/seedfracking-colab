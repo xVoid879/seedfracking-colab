{
  "cells": [
    {
      "cell_type": "markdown",
      "metadata": {
        "id": "view-in-github",
        "colab_type": "text"
      },
      "source": [
        "<a href=\"https://colab.research.google.com/github/xVoid879/seedfracking-colab/blob/main/COMMISSION.ipynb\" target=\"_parent\"><img src=\"https://colab.research.google.com/assets/colab-badge.svg\" alt=\"Open In Colab\"/></a>"
      ]
    },
    {
      "cell_type": "markdown",
      "source": [
        "--------------------------------------------------------------------------------"
      ],
      "metadata": {
        "id": "3jqIVAanp6SA"
      }
    },
    {
      "cell_type": "markdown",
      "source": [
        "RUN THIS FIRST"
      ],
      "metadata": {
        "id": "GVNPs5HYpx4G"
      }
    },
    {
      "cell_type": "code",
      "source": [
        "!wget https://github.com/user-attachments/files/21824341/cuda.zip > /dev/null 2>&1"
      ],
      "metadata": {
        "id": "Tgpa7BmIpvot"
      },
      "execution_count": null,
      "outputs": []
    },
    {
      "cell_type": "markdown",
      "source": [
        "--------------------------------------------------------------------------------"
      ],
      "metadata": {
        "id": "Yhsu6i0q1mC2"
      }
    },
    {
      "cell_type": "markdown",
      "source": [
        "Make sure to only run one command at a time from top to button following the instructions."
      ],
      "metadata": {
        "id": "n6WgLQwqlSZx"
      }
    },
    {
      "cell_type": "markdown",
      "source": [
        "--------------------------------------------------------------------------------"
      ],
      "metadata": {
        "id": "Tf30Ax0kpsq1"
      }
    },
    {
      "cell_type": "markdown",
      "source": [
        "**Run the command to unzip.**"
      ],
      "metadata": {
        "id": "kxKJ4DFfeJF9"
      }
    },
    {
      "cell_type": "code",
      "source": [
        "!unzip cuda.zip"
      ],
      "metadata": {
        "id": "aZZax02PWO1C"
      },
      "execution_count": null,
      "outputs": []
    },
    {
      "cell_type": "markdown",
      "source": [
        "--------------------------------------------------------------------------------"
      ],
      "metadata": {
        "id": "ISWP4Ucj1oeO"
      }
    },
    {
      "cell_type": "markdown",
      "source": [
        "**RUN THIS COMMAND TO COMPILE (SHOULD TAKE AROUND 30 SECONDS).**"
      ],
      "metadata": {
        "id": "A7YN4AD-eUhv"
      }
    },
    {
      "cell_type": "markdown",
      "source": [
        "(Running the command below does it for large biomes. To switch it, replace LARGE_BIOMES=1 to LARGE_BIOMES=0)."
      ],
      "metadata": {
        "id": "3PWS3FDYkCrn"
      }
    },
    {
      "cell_type": "code",
      "source": [
        "!nvcc src/main.cpp src/cpu.cpp src/gpu.cu src/cubiomes.c \\\n",
        "    src/client.cpp src/server.cpp \\\n",
        "    cubiomes/biomenoise.c cubiomes/biomes.c cubiomes/finders.c \\\n",
        "    cubiomes/generator.c cubiomes/layers.c cubiomes/noise.c \\\n",
        "    -o main \\\n",
        "    -O3 -std=c++20 -I asio/asio/include \\\n",
        "    --expt-relaxed-constexpr --default-stream per-thread \\\n",
        "    -DOMISSION_LARGE_BIOMES=1 \\\n",
        "    -arch=sm_75"
      ],
      "metadata": {
        "id": "JAEu2NVvWfzR"
      },
      "execution_count": null,
      "outputs": []
    },
    {
      "cell_type": "markdown",
      "source": [
        "--------------------------------------------------------------------------------"
      ],
      "metadata": {
        "id": "fl-UdiQA1qn6"
      }
    },
    {
      "cell_type": "markdown",
      "source": [
        "**Now run this command to run the program.**"
      ],
      "metadata": {
        "id": "XCF9UPxkehEI"
      }
    },
    {
      "cell_type": "code",
      "source": [
        "!./main"
      ],
      "metadata": {
        "id": "ZaCUOrHEyJFT"
      },
      "execution_count": null,
      "outputs": []
    }
  ],
  "metadata": {
    "colab": {
      "provenance": [],
      "gpuType": "T4",
      "include_colab_link": true
    },
    "kernelspec": {
      "display_name": "Python 3",
      "name": "python3"
    },
    "accelerator": "GPU"
  },
  "nbformat": 4,
  "nbformat_minor": 0
}
